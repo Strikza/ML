{
 "cells": [
  {
   "cell_type": "markdown",
   "metadata": {},
   "source": [
    "# Réalisation d'apprentissage personnalisé sous TF \n",
    "## P. Carré XLIM, Université de Poitiers"
   ]
  },
  {
   "cell_type": "markdown",
   "metadata": {},
   "source": [
    "Dans le cadre de l'apprentissage par renforcement (version Deep), il est nécessaire de pouvoir déployer une boucle d'apprentissage avec rétroporapagation du gradient personnalisée.\n",
    "L'objectif de ce Notbook est d'illustrer les concepts de base permettant de faire cela."
   ]
  },
  {
   "cell_type": "markdown",
   "metadata": {},
   "source": [
    "### Premier exemple : modèle direct d'un neurone\n",
    "Nous proposons d'illustrer le concept avec un simple neurone sans usage des fonctions TF associées aux layers de TF "
   ]
  },
  {
   "cell_type": "code",
   "execution_count": 2,
   "metadata": {},
   "outputs": [],
   "source": [
    "import tensorflow as tf\n",
    "from tensorflow import keras\n",
    "import matplotlib.pyplot as plt\n",
    "\n",
    "import numpy as np\n",
    "import random"
   ]
  },
  {
   "cell_type": "code",
   "execution_count": 3,
   "metadata": {},
   "outputs": [],
   "source": [
    "def calcul_u(w,x): # fonction calculant la sortie intermédiaire du réseau\n",
    "    return w[0]+w[1]*x[0]+w[2]*x[1]"
   ]
  },
  {
   "cell_type": "code",
   "execution_count": 4,
   "metadata": {},
   "outputs": [],
   "source": [
    "@tf.custom_gradient # on va définir la dérivé de la fonction d'activation\n",
    "#Concept du décorateur de fonction,  modifier le comportement d'une fonction de manière temporaire\n",
    "def mytanh(u):\n",
    "  y = tf.math.tanh(u) #fonction d'activation tanh\n",
    "  def grad(err):\n",
    "    return err * (1 - y*y) #definition du gradient qui mutliplie l'erreur durant la rétropropagation\n",
    "  return y , grad"
   ]
  },
  {
   "cell_type": "markdown",
   "metadata": {},
   "source": [
    "Maintenant nous pouvons définir notre exemple dans le cadre du OU"
   ]
  },
  {
   "cell_type": "code",
   "execution_count": 5,
   "metadata": {},
   "outputs": [],
   "source": [
    "x=tf.constant(np.transpose([[0.,0.],[0.,1.],[1.,0.],[1.,1.]])) #Data \n",
    "yd=tf.constant(np.array([-1.,1.,1.,1.])) #Les réponses désirées\n",
    "w= tf.Variable(np.random.rand(3)-0.5) #Les poids"
   ]
  },
  {
   "cell_type": "markdown",
   "metadata": {},
   "source": [
    "On peut remarquer que la définition de toutes les variables se fait à travers le formalisme TF, cela permettra ensuite\n",
    "d'appliquer la rétropropagation du gradient."
   ]
  },
  {
   "cell_type": "code",
   "execution_count": 6,
   "metadata": {},
   "outputs": [],
   "source": [
    "epoch = 100\n",
    "#optimizer = keras.optimizers.SGD(learning_rate=0.1) #On choisit un optimiser \n",
    "optimizer = tf.keras.optimizers.SGD(learning_rate=0.1)\n",
    "suivi = np.zeros(epoch)\n",
    "loss_fn = keras.losses.mean_squared_error #utilisation de la fonction de cout MSE"
   ]
  },
  {
   "cell_type": "markdown",
   "metadata": {},
   "source": [
    "Quelques éléments concernant la rétroporapagation du gradient avec TF et tf.GradientTape()\n",
    "#automatic differentiation\n",
    "#computing the gradient of a computation with respect to its input variables.\n",
    "#Tensorflow \"records\" all operations executed inside the context of a tf.GradientTape onto a \"tape\". \n",
    "#Tensorflow then uses that tape and the gradients associated with each recorded operation \n",
    "#to compute the gradients of a \"recorded\" computation using reverse mode differentiation.\n",
    "#https://www.tensorflow.org/guide/autodiff\n",
    "\n",
    "Pour différencier automatiquement, TensorFlow doit se rappeler quelles opérations se produisent dans quel ordre pendant le passage vers l' avant . Ensuite, lors de la passe arrière , TensorFlow parcourt cette liste d'opérations dans l'ordre inverse pour calculer les gradients.\n",
    "\n",
    "TensorFlow fournit l'API tf.GradientTape pour la différenciation automatique ; c'est-à-dire calculer le gradient d'un calcul par rapport à certaines entrées, généralement tf.Variable s. TensorFlow \"enregistre\" les opérations pertinentes exécutées dans le contexte d'un tf.GradientTape sur une \"bande\". TensorFlow utilise ensuite cette bande pour calculer les gradients d'un calcul \"enregistré\" en utilisant la différenciation en mode inverse ."
   ]
  },
  {
   "cell_type": "code",
   "execution_count": 7,
   "metadata": {},
   "outputs": [],
   "source": [
    "for nbre in range(0,epoch): # pour chaque epoch\n",
    "    for b in range(0,4): \n",
    "        indiv = x[:,b] # pour chaque individu\n",
    "        target = yd[b] # associé à une réponse désirée\n",
    "        with tf.GradientTape() as tape: \n",
    "            #Pour que le système puisse faire la descente de gradient\n",
    "            #il faut recalculer la propagation de l'entrée\n",
    "            #Ce que l'on pense obtenir\n",
    "            u_pred = calcul_u(w,indiv)\n",
    "            y_pred = mytanh(u_pred) #Ce que l'on pense obteni\n",
    "            loss = loss_fn([target],[y_pred]) # On peut calculer la différence, cela doit être une liste \n",
    "            \n",
    "        gradients = tape.gradient(loss,[w]) #calcul du gradient de la focntion loss en fonction des variables du modèle \n",
    "        # A ce stade on a la valeur du gradient en focntion de chaque variable\n",
    "        optimizer.apply_gradients(zip(gradients,[w])) #On combine (valeur gradient ; paramètre associé) et on applique la modification\n",
    "        suivi[nbre] += loss.numpy() # on récupère la valeur pour afficher l'évolution de l'erreur"
   ]
  },
  {
   "cell_type": "markdown",
   "metadata": {},
   "source": [
    "Maintenant nous pouvons évaluer le résultat de l'apprentissage en regardant la sortie pour les 4 couples binaires et afficher \n",
    "l'évolution de l'erreur"
   ]
  },
  {
   "cell_type": "code",
   "execution_count": 8,
   "metadata": {},
   "outputs": [
    {
     "name": "stdout",
     "output_type": "stream",
     "text": [
      "-0.7961154817554776\n",
      "0.8786089271231414\n",
      "0.8760503103077814\n",
      "0.9990312295058197\n"
     ]
    },
    {
     "data": {
      "text/plain": [
       "[<matplotlib.lines.Line2D at 0x2d2bb09e358>]"
      ]
     },
     "execution_count": 8,
     "metadata": {},
     "output_type": "execute_result"
    },
    {
     "data": {
      "image/png": "[encoded data removed]",
      "text/plain": [
       "<Figure size 432x288 with 1 Axes>"
      ]
     },
     "metadata": {
      "needs_background": "light"
     },
     "output_type": "display_data"
    }
   ],
   "source": [
    "print(mytanh(calcul_u(w,x[:,0])).numpy())\n",
    "print(mytanh(calcul_u(w,x[:,1])).numpy())\n",
    "print(mytanh(calcul_u(w,x[:,2])).numpy())\n",
    "print(mytanh(calcul_u(w,x[:,3])).numpy())\n",
    "plt.plot(suivi)"
   ]
  },
  {
   "cell_type": "markdown",
   "metadata": {},
   "source": [
    "## Test sur une structure neuronale plus complexe\n",
    "Nous proposons d'étudier le principe de la boucle personnalisée à partir d'une structure composée de plusieurs couches.\n",
    "Nous illsutrons cela dans le contexte d'un problème de régression"
   ]
  },
  {
   "cell_type": "code",
   "execution_count": 9,
   "metadata": {},
   "outputs": [
    {
     "data": {
      "text/plain": [
       "[<matplotlib.lines.Line2D at 0x2d2bb143d68>]"
      ]
     },
     "execution_count": 9,
     "metadata": {},
     "output_type": "execute_result"
    },
    {
     "data": {
      "image/png": "[encoded data removed]",
      "text/plain": [
       "<Figure size 432x288 with 1 Axes>"
      ]
     },
     "metadata": {
      "needs_background": "light"
     },
     "output_type": "display_data"
    }
   ],
   "source": [
    "# # Données de test y = x*a\n",
    "#b du bruit\n",
    "N = 100 #nbre individu\n",
    "x = np.linspace(-10, 10, num=N)\n",
    "oracle = 0.1*x + 0.1*np.random.normal(size=N)\n",
    "plt.plot(x,oracle)"
   ]
  },
  {
   "cell_type": "code",
   "execution_count": 10,
   "metadata": {},
   "outputs": [],
   "source": [
    "#tf.keras.backend.set_floatx('float64')\n",
    "model = keras.Sequential()\n",
    "model.add(keras.layers.Dense(units = 8, activation = 'linear', input_shape=[1]))\n",
    "model.add(keras.layers.Dense(units = 16, activation = 'relu'))\n",
    "model.add(keras.layers.Dense(units = 1, activation = 'linear'))"
   ]
  },
  {
   "cell_type": "code",
   "execution_count": 11,
   "metadata": {},
   "outputs": [],
   "source": [
    "epoch = 10\n",
    "optimizer = keras.optimizers.Nadam(learning_rate=1e-3) #On choisit un optimiser \n",
    "suivi = np.zeros(epoch)\n",
    "loss_fn = keras.losses.mean_squared_error #utilisation de la fonction de cout MSE"
   ]
  },
  {
   "cell_type": "code",
   "execution_count": 12,
   "metadata": {},
   "outputs": [
    {
     "name": "stdout",
     "output_type": "stream",
     "text": [
      "WARNING:tensorflow:Layer dense is casting an input tensor from dtype float64 to the layer's dtype of float32, which is new behavior in TensorFlow 2.  The layer has dtype float32 because it's dtype defaults to floatx.\n",
      "\n",
      "If you intended to run this layer in float32, you can safely ignore this warning. If in doubt, this warning is likely only an issue if you are porting a TensorFlow 1.X model to TensorFlow 2.\n",
      "\n",
      "To change all layers to have dtype float64 by default, call `tf.keras.backend.set_floatx('float64')`. To change just this layer, pass dtype='float64' to the layer constructor. If you are the author of this layer, you can disable autocasting by passing autocast=False to the base Layer constructor.\n",
      "\n"
     ]
    }
   ],
   "source": [
    "indiv = np.zeros((1,1))\n",
    "\n",
    "for nbre in range(0,epoch): # pour chaque epoch\n",
    "    gstoch = np.random.permutation(N) #présentation ordre aléatoire\n",
    "    data = x[gstoch]\n",
    "    yd = oracle[gstoch]\n",
    "    for b in range(0,N): \n",
    "        indiv[0,0] = data[b] # pour chaque individu\n",
    "        target = yd[b] # associé à une réponse désirée\n",
    "        with tf.GradientTape() as tape: \n",
    "            #Pour que le système puisse faire la descente de gradient\n",
    "            #il faut calculer la propagation de l'entrée\n",
    "            #Ce que l'on pense obtenir\n",
    "            predict = model(indiv) #Ce que l'on pense obteni\n",
    "            loss = loss_fn([target],[predict]) # On peut calculer la différence, cela doit être une liste \n",
    "        \n",
    "        gradients = tape.gradient(loss,model.trainable_variables) #calcul du gradient de la focntion loss en fonction des variables du modèle \n",
    "        # A ce stade on a la valeur du gradient en focntion de chaque variable\n",
    "        optimizer.apply_gradients(zip(gradients,model.trainable_variables)) #On combine (valeur gradient ; paramètre associé) et on applique la modification\n",
    "        suivi[nbre] += loss.numpy() # on récupère la valeur pour afficher l'évolution de l'erreur"
   ]
  },
  {
   "cell_type": "code",
   "execution_count": 13,
   "metadata": {},
   "outputs": [
    {
     "data": {
      "image/png": "[encoded data removed]",
      "text/plain": [
       "<Figure size 432x288 with 1 Axes>"
      ]
     },
     "metadata": {
      "needs_background": "light"
     },
     "output_type": "display_data"
    }
   ],
   "source": [
    "y_predicted = model.predict(x)\n",
    "\n",
    "# Display the result\n",
    "plt.scatter(x[::1], oracle[::1])\n",
    "plt.plot(x, y_predicted, 'r', linewidth=4)\n",
    "plt.grid()\n",
    "plt.show()"
   ]
  },
  {
   "cell_type": "code",
   "execution_count": null,
   "metadata": {},
   "outputs": [],
   "source": []
  }
 ],
 "metadata": {
  "kernelspec": {
   "display_name": "Python 3",
   "language": "python",
   "name": "python3"
  },
  "language_info": {
   "codemirror_mode": {
    "name": "ipython",
    "version": 3
   },
   "file_extension": ".py",
   "mimetype": "text/x-python",
   "name": "python",
   "nbconvert_exporter": "python",
   "pygments_lexer": "ipython3",
   "version": "3.6.10"
  }
 },
 "nbformat": 4,
 "nbformat_minor": 4
}
